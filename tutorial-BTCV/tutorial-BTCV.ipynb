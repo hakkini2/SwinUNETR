{
 "cells": [
  {
   "cell_type": "markdown",
   "metadata": {},
   "source": [
    "# Tutorial on the BTCV dataset\n"
   ]
  },
  {
   "cell_type": "code",
   "execution_count": 1,
   "metadata": {},
   "outputs": [
    {
     "name": "stdout",
     "output_type": "stream",
     "text": [
      "MONAI version: 1.3.dev2329\n",
      "Numpy version: 1.21.5\n",
      "Pytorch version: 2.0.1+cu117\n",
      "MONAI flags: HAS_EXT = False, USE_COMPILED = False, USE_META_DICT = False\n",
      "MONAI rev id: c82c65a288e396f8f7d059e82373edb1814b20be\n",
      "MONAI __file__: /u/08/hakkini2/unix/.local/lib/python3.10/site-packages/monai/__init__.py\n",
      "\n",
      "Optional dependencies:\n",
      "Pytorch Ignite version: 0.4.11\n",
      "ITK version: NOT INSTALLED or UNKNOWN VERSION.\n",
      "Nibabel version: 5.1.0\n",
      "scikit-image version: NOT INSTALLED or UNKNOWN VERSION.\n",
      "Pillow version: 9.0.1\n",
      "Tensorboard version: NOT INSTALLED or UNKNOWN VERSION.\n",
      "gdown version: 4.7.1\n",
      "TorchVision version: 0.15.2+cu117\n",
      "tqdm version: 4.59.0\n",
      "lmdb version: 1.4.1\n",
      "psutil version: 5.9.0\n",
      "pandas version: 2.0.3\n",
      "einops version: 0.4.1\n",
      "transformers version: NOT INSTALLED or UNKNOWN VERSION.\n",
      "mlflow version: NOT INSTALLED or UNKNOWN VERSION.\n",
      "pynrrd version: NOT INSTALLED or UNKNOWN VERSION.\n",
      "\n",
      "For details about installing the optional dependencies, please visit:\n",
      "    https://docs.monai.io/en/latest/installation.html#installing-the-recommended-dependencies\n",
      "\n"
     ]
    }
   ],
   "source": [
    "import os\n",
    "import shutil\n",
    "import tempfile\n",
    "\n",
    "import matplotlib.pyplot as plt\n",
    "from tqdm import tqdm\n",
    "\n",
    "from monai.losses import DiceCELoss\n",
    "from monai.inferers import sliding_window_inference\n",
    "from monai.transforms import (\n",
    "    AsDiscrete,\n",
    "    Compose,\n",
    "    CropForegroundd,\n",
    "    LoadImaged,\n",
    "    Orientationd,\n",
    "    RandFlipd,\n",
    "    RandCropByPosNegLabeld,\n",
    "    RandShiftIntensityd,\n",
    "    ScaleIntensityRanged,\n",
    "    Spacingd,\n",
    "    RandRotate90d,\n",
    "    EnsureTyped,\n",
    ")\n",
    "\n",
    "from monai.config import print_config\n",
    "from monai.metrics import DiceMetric\n",
    "from monai.networks.nets import SwinUNETR\n",
    "\n",
    "from monai.data import (\n",
    "    ThreadDataLoader,\n",
    "    CacheDataset,\n",
    "    load_decathlon_datalist,\n",
    "    decollate_batch,\n",
    "    set_track_meta,\n",
    ")\n",
    "\n",
    "\n",
    "import torch\n",
    "\n",
    "print_config()"
   ]
  },
  {
   "cell_type": "markdown",
   "metadata": {},
   "source": [
    "## Setup data directory"
   ]
  },
  {
   "cell_type": "code",
   "execution_count": 3,
   "metadata": {},
   "outputs": [
    {
     "name": "stdout",
     "output_type": "stream",
     "text": [
      "~/ComputerVision/SwinUNETR/tutorial-BTCV/\n",
      "~/ComputerVision/SwinUNETR/tutorial-BTCV/best_metric_model.pth\n"
     ]
    }
   ],
   "source": [
    "os.environ[\"MONAI_DATA_DIRECTORY\"] = \"~/ComputerVision/SwinUNETR/tutorial-BTCV/\"\n",
    "\n",
    "directory = os.environ.get(\"MONAI_DATA_DIRECTORY\")\n",
    "root_dir = tempfile.mkdtemp() if directory is None else directory\n",
    "print(root_dir)\n",
    "\n",
    "os.environ[\"PYTORCH_CUDA_ALLOC_CONF\"] = \"max_split_size_mb:128\"\n"
   ]
  },
  {
   "cell_type": "markdown",
   "metadata": {},
   "source": [
    "## Setup transforms for training and validation"
   ]
  },
  {
   "cell_type": "code",
   "execution_count": 3,
   "metadata": {},
   "outputs": [
    {
     "name": "stderr",
     "output_type": "stream",
     "text": [
      "/u/08/hakkini2/unix/.local/lib/python3.10/site-packages/monai/utils/deprecate_utils.py:321: FutureWarning: monai.transforms.io.dictionary LoadImaged.__init__:image_only: Current default value of argument `image_only=False` has been deprecated since version 1.1. It will be changed to `image_only=True` in version 1.3.\n",
      "  warn_deprecated(argname, msg, warning_category)\n"
     ]
    }
   ],
   "source": [
    "num_samples = 2\n",
    "\n",
    "os.environ[\"CUDA_DEVICE_ORDER\"] = \"PCI_BUS_ID\"\n",
    "device = torch.device(\"cuda\" if torch.cuda.is_available() else \"cpu\")\n",
    "\n",
    "train_transforms = Compose(\n",
    "    [\n",
    "        LoadImaged(keys=[\"image\", \"label\"], ensure_channel_first=True),\n",
    "        ScaleIntensityRanged(\n",
    "            keys=[\"image\"],\n",
    "            a_min=-175,\n",
    "            a_max=250,\n",
    "            b_min=0.0,\n",
    "            b_max=1.0,\n",
    "            clip=True,\n",
    "        ),\n",
    "        CropForegroundd(keys=[\"image\", \"label\"], source_key=\"image\"),\n",
    "        Orientationd(keys=[\"image\", \"label\"], axcodes=\"RAS\"),\n",
    "        Spacingd(\n",
    "            keys=[\"image\", \"label\"],\n",
    "            pixdim=(1.5, 1.5, 2.0),\n",
    "            mode=(\"bilinear\", \"nearest\"),\n",
    "        ),\n",
    "        EnsureTyped(keys=[\"image\", \"label\"], device=device, track_meta=False),\n",
    "        RandCropByPosNegLabeld(\n",
    "            keys=[\"image\", \"label\"],\n",
    "            label_key=\"label\",\n",
    "            spatial_size=(96, 96, 96),\n",
    "            pos=1,\n",
    "            neg=1,\n",
    "            num_samples=num_samples,\n",
    "            image_key=\"image\",\n",
    "            image_threshold=0,\n",
    "        ),\n",
    "        RandFlipd(\n",
    "            keys=[\"image\", \"label\"],\n",
    "            spatial_axis=[0],\n",
    "            prob=0.10,\n",
    "        ),\n",
    "        RandFlipd(\n",
    "            keys=[\"image\", \"label\"],\n",
    "            spatial_axis=[1],\n",
    "            prob=0.10,\n",
    "        ),\n",
    "        RandFlipd(\n",
    "            keys=[\"image\", \"label\"],\n",
    "            spatial_axis=[2],\n",
    "            prob=0.10,\n",
    "        ),\n",
    "        RandRotate90d(\n",
    "            keys=[\"image\", \"label\"],\n",
    "            prob=0.10,\n",
    "            max_k=3,\n",
    "        ),\n",
    "        RandShiftIntensityd(\n",
    "            keys=[\"image\"],\n",
    "            offsets=0.10,\n",
    "            prob=0.50,\n",
    "        ),\n",
    "    ]\n",
    ")\n",
    "val_transforms = Compose(\n",
    "    [\n",
    "        LoadImaged(keys=[\"image\", \"label\"], ensure_channel_first=True),\n",
    "        ScaleIntensityRanged(keys=[\"image\"], a_min=-175, a_max=250, b_min=0.0, b_max=1.0, clip=True),\n",
    "        CropForegroundd(keys=[\"image\", \"label\"], source_key=\"image\"),\n",
    "        Orientationd(keys=[\"image\", \"label\"], axcodes=\"RAS\"),\n",
    "        Spacingd(\n",
    "            keys=[\"image\", \"label\"],\n",
    "            pixdim=(1.5, 1.5, 2.0),\n",
    "            mode=(\"bilinear\", \"nearest\"),\n",
    "        ),\n",
    "        EnsureTyped(keys=[\"image\", \"label\"], device=device, track_meta=True),\n",
    "    ]\n",
    ")\n"
   ]
  },
  {
   "cell_type": "markdown",
   "metadata": {},
   "source": [
    "## Data loading"
   ]
  },
  {
   "cell_type": "code",
   "execution_count": 4,
   "metadata": {},
   "outputs": [
    {
     "name": "stderr",
     "output_type": "stream",
     "text": [
      "Loading dataset:   0%|          | 0/24 [00:00<?, ?it/s]"
     ]
    },
    {
     "name": "stderr",
     "output_type": "stream",
     "text": [
      "Loading dataset: 100%|██████████| 24/24 [00:12<00:00,  1.90it/s]\n",
      "Loading dataset: 100%|██████████| 6/6 [00:05<00:00,  1.19it/s]\n"
     ]
    }
   ],
   "source": [
    "data_dir = \"data/\"\n",
    "split_json = \"dataset_0.json\"\n",
    "\n",
    "datasets = data_dir + split_json\n",
    "datalist = load_decathlon_datalist(datasets, True, \"training\")\n",
    "val_files = load_decathlon_datalist(datasets, True, \"validation\")\n",
    "train_ds = CacheDataset(\n",
    "    data=datalist,\n",
    "    transform=train_transforms,\n",
    "    cache_num=24,\n",
    "    cache_rate=1.0,\n",
    "    num_workers=8,\n",
    ")\n",
    "train_loader = ThreadDataLoader(train_ds, num_workers=0, batch_size=1, shuffle=True)\n",
    "val_ds = CacheDataset(data=val_files, transform=val_transforms, cache_num=6, cache_rate=1.0, num_workers=4)\n",
    "val_loader = ThreadDataLoader(val_ds, num_workers=0, batch_size=1)\n",
    "\n",
    "# as explained in the \"Setup transforms\" section above, we want cached training images to not have metadata, and validations to have metadata\n",
    "# the EnsureTyped transforms allow us to make this distinction\n",
    "# on the other hand, set_track_meta is a global API; doing so here makes sure subsequent transforms (i.e., random transforms for training)\n",
    "# will be carried out as Tensors, not MetaTensors\n",
    "set_track_meta(False)"
   ]
  },
  {
   "cell_type": "markdown",
   "metadata": {},
   "source": [
    "## Check data shape and visualize"
   ]
  },
  {
   "cell_type": "code",
   "execution_count": 5,
   "metadata": {},
   "outputs": [
    {
     "name": "stdout",
     "output_type": "stream",
     "text": [
      "image shape: torch.Size([1, 314, 215, 234]), label shape: torch.Size([1, 314, 215, 234])\n"
     ]
    },
    {
     "data": {
      "image/png": "[encoded data removed]",
      "text/plain": [
       "<Figure size 1296x432 with 2 Axes>"
      ]
     },
     "metadata": {
      "needs_background": "light"
     },
     "output_type": "display_data"
    }
   ],
   "source": [
    "slice_map = {\n",
    "    \"img0035.nii.gz\": 170,\n",
    "    \"img0036.nii.gz\": 230,\n",
    "    \"img0037.nii.gz\": 204,\n",
    "    \"img0038.nii.gz\": 204,\n",
    "    \"img0039.nii.gz\": 204,\n",
    "    \"img0040.nii.gz\": 180,\n",
    "}\n",
    "case_num = 0\n",
    "img_name = os.path.split(val_ds[case_num][\"image\"].meta[\"filename_or_obj\"])[1]\n",
    "img = val_ds[case_num][\"image\"]\n",
    "label = val_ds[case_num][\"label\"]\n",
    "img_shape = img.shape\n",
    "label_shape = label.shape\n",
    "print(f\"image shape: {img_shape}, label shape: {label_shape}\")\n",
    "plt.figure(\"image\", (18, 6))\n",
    "plt.subplot(1, 2, 1)\n",
    "plt.title(\"image\")\n",
    "plt.imshow(img[0, :, :, slice_map[img_name]].detach().cpu(), cmap=\"gray\")\n",
    "plt.subplot(1, 2, 2)\n",
    "plt.title(\"label\")\n",
    "plt.imshow(label[0, :, :, slice_map[img_name]].detach().cpu())\n",
    "plt.show()"
   ]
  },
  {
   "cell_type": "markdown",
   "metadata": {},
   "source": [
    "## Create Swin UNETR Model\n",
    "\n",
    "Create Swin UNETR model for 14-class multi-organ segmentation (BTCV challenge)."
   ]
  },
  {
   "cell_type": "code",
   "execution_count": 6,
   "metadata": {},
   "outputs": [],
   "source": [
    "os.environ[\"CUDA_DEVICE_ORDER\"] = \"PCI_BUS_ID\"\n",
    "device = torch.device(\"cuda\" if torch.cuda.is_available() else \"cpu\")\n",
    "\n",
    "model = SwinUNETR(\n",
    "    img_size=(96, 96, 96),\n",
    "    in_channels=1,\n",
    "    out_channels=14,\n",
    "    feature_size=48,\n",
    "    use_checkpoint=True,    # gradient checkpointing (=re-calculate some operations to save memory)\n",
    ").to(device)"
   ]
  },
  {
   "cell_type": "markdown",
   "metadata": {},
   "source": [
    "## Initialize Swin UNETR encoder from self-supervised pre-trained weights"
   ]
  },
  {
   "cell_type": "code",
   "execution_count": 7,
   "metadata": {},
   "outputs": [
    {
     "name": "stdout",
     "output_type": "stream",
     "text": [
      "Using pretrained self-supervied Swin UNETR backbone weights !\n"
     ]
    }
   ],
   "source": [
    "weight = torch.load(\"./model_swinvit.pt\")\n",
    "model.load_from(weights=weight)\n",
    "del weight\n",
    "print(\"Using pretrained self-supervied Swin UNETR backbone weights !\")"
   ]
  },
  {
   "cell_type": "markdown",
   "metadata": {},
   "source": [
    "## Optimizer and loss function"
   ]
  },
  {
   "cell_type": "code",
   "execution_count": 8,
   "metadata": {},
   "outputs": [],
   "source": [
    "torch.backends.cudnn.benchmark = True\n",
    "loss_function = DiceCELoss(to_onehot_y=True, softmax=True)\n",
    "optimizer = torch.optim.AdamW(model.parameters(), lr=1e-4, weight_decay=1e-5)\n",
    "scaler = torch.cuda.amp.GradScaler()"
   ]
  },
  {
   "cell_type": "markdown",
   "metadata": {},
   "source": [
    "## Training process"
   ]
  },
  {
   "cell_type": "code",
   "execution_count": 9,
   "metadata": {},
   "outputs": [],
   "source": [
    "def validation(epoch_iterator_val):\n",
    "    model.eval()\n",
    "    with torch.no_grad():\n",
    "        for batch in epoch_iterator_val:\n",
    "            val_inputs, val_labels = (batch[\"image\"].cuda(), batch[\"label\"].cuda())\n",
    "            with torch.cuda.amp.autocast():\n",
    "                val_outputs = sliding_window_inference(val_inputs, (96, 96, 96), 1, model)\n",
    "            val_labels_list = decollate_batch(val_labels)\n",
    "            val_labels_convert = [post_label(val_label_tensor) for val_label_tensor in val_labels_list]\n",
    "            val_outputs_list = decollate_batch(val_outputs)\n",
    "            val_output_convert = [post_pred(val_pred_tensor) for val_pred_tensor in val_outputs_list]\n",
    "            dice_metric(y_pred=val_output_convert, y=val_labels_convert)\n",
    "            epoch_iterator_val.set_description(\"Validate (%d / %d Steps)\" % (global_step, 10.0))\n",
    "        mean_dice_val = dice_metric.aggregate().item()\n",
    "        dice_metric.reset()\n",
    "    print(\"\\n validation done! \\n\")\n",
    "    return mean_dice_val\n",
    "\n",
    "\n",
    "def train(global_step, train_loader, dice_val_best, global_step_best):\n",
    "    model.train()\n",
    "    epoch_loss = 0\n",
    "    step = 0\n",
    "    epoch_iterator = tqdm(train_loader, desc=\"Training (X / X Steps) (loss=X.X)\", dynamic_ncols=True)\n",
    "    for step, batch in enumerate(epoch_iterator):\n",
    "        step += 1\n",
    "        x, y = (batch[\"image\"].cuda(), batch[\"label\"].cuda())\n",
    "        with torch.cuda.amp.autocast():\n",
    "            logit_map = model(x)\n",
    "            loss = loss_function(logit_map, y)\n",
    "        scaler.scale(loss).backward()\n",
    "        epoch_loss += loss.item()\n",
    "        scaler.unscale_(optimizer)\n",
    "        scaler.step(optimizer)\n",
    "        scaler.update()\n",
    "        optimizer.zero_grad()\n",
    "        epoch_iterator.set_description(f\"Training ({global_step} / {max_iterations} Steps) (loss={loss:2.5f})\")\n",
    "        if (global_step % eval_num == 0 and global_step != 0) or global_step == max_iterations:\n",
    "            epoch_iterator_val = tqdm(val_loader, desc=\"Validate (X / X Steps) (dice=X.X)\", dynamic_ncols=True)\n",
    "            dice_val = validation(epoch_iterator_val)\n",
    "            epoch_loss /= step\n",
    "            epoch_loss_values.append(epoch_loss)\n",
    "            metric_values.append(dice_val)\n",
    "            if dice_val > dice_val_best:\n",
    "                dice_val_best = dice_val\n",
    "                global_step_best = global_step\n",
    "                torch.save(model.state_dict(), os.path.join(root_dir, \"best_metric_model.pth\"))\n",
    "                print(\n",
    "                    \"Model Was Saved ! Current Best Avg. Dice: {} Current Avg. Dice: {}\".format(dice_val_best, dice_val)\n",
    "                )\n",
    "            else:\n",
    "                print(\n",
    "                    \"Model Was Not Saved ! Current Best Avg. Dice: {} Current Avg. Dice: {}\".format(\n",
    "                        dice_val_best, dice_val\n",
    "                    )\n",
    "                )\n",
    "        global_step += 1\n",
    "    return global_step, dice_val_best, global_step_best"
   ]
  },
  {
   "cell_type": "code",
   "execution_count": 10,
   "metadata": {},
   "outputs": [
    {
     "name": "stderr",
     "output_type": "stream",
     "text": [
      "Training (X / X Steps) (loss=X.X):   0%|          | 0/24 [00:00<?, ?it/s]"
     ]
    },
    {
     "name": "stderr",
     "output_type": "stream",
     "text": [
      "Training (23 / 30000 Steps) (loss=2.36581): 100%|██████████| 24/24 [00:26<00:00,  1.10s/it]\n",
      "Training (47 / 30000 Steps) (loss=2.14043): 100%|██████████| 24/24 [00:22<00:00,  1.07it/s]\n",
      "Training (71 / 30000 Steps) (loss=2.37554): 100%|██████████| 24/24 [00:22<00:00,  1.07it/s]\n",
      "Training (95 / 30000 Steps) (loss=1.90840): 100%|██████████| 24/24 [00:22<00:00,  1.06it/s]\n",
      "Training (119 / 30000 Steps) (loss=2.06659): 100%|██████████| 24/24 [00:22<00:00,  1.06it/s]\n",
      "Training (143 / 30000 Steps) (loss=1.89281): 100%|██████████| 24/24 [00:22<00:00,  1.06it/s]\n",
      "Training (167 / 30000 Steps) (loss=2.01523): 100%|██████████| 24/24 [00:22<00:00,  1.06it/s]\n",
      "Training (191 / 30000 Steps) (loss=1.87579): 100%|██████████| 24/24 [00:22<00:00,  1.05it/s]\n",
      "Training (215 / 30000 Steps) (loss=1.90827): 100%|██████████| 24/24 [00:22<00:00,  1.06it/s]\n",
      "Training (239 / 30000 Steps) (loss=1.62047): 100%|██████████| 24/24 [00:22<00:00,  1.06it/s]\n",
      "Training (263 / 30000 Steps) (loss=1.65982): 100%|██████████| 24/24 [00:22<00:00,  1.05it/s]\n",
      "Training (287 / 30000 Steps) (loss=1.51147): 100%|██████████| 24/24 [00:22<00:00,  1.05it/s]\n",
      "Training (311 / 30000 Steps) (loss=1.56296): 100%|██████████| 24/24 [00:22<00:00,  1.06it/s]\n",
      "Training (335 / 30000 Steps) (loss=1.60229): 100%|██████████| 24/24 [00:22<00:00,  1.06it/s]\n",
      "Training (359 / 30000 Steps) (loss=1.38306): 100%|██████████| 24/24 [00:22<00:00,  1.05it/s]\n",
      "Training (383 / 30000 Steps) (loss=1.51077): 100%|██████████| 24/24 [00:22<00:00,  1.06it/s]\n",
      "Training (407 / 30000 Steps) (loss=1.55990): 100%|██████████| 24/24 [00:22<00:00,  1.07it/s]\n",
      "Training (431 / 30000 Steps) (loss=1.79474): 100%|██████████| 24/24 [00:22<00:00,  1.06it/s]\n",
      "Training (455 / 30000 Steps) (loss=1.36696): 100%|██████████| 24/24 [00:22<00:00,  1.06it/s]\n",
      "Training (479 / 30000 Steps) (loss=1.29020): 100%|██████████| 24/24 [00:22<00:00,  1.06it/s]\n",
      "Training (500 / 30000 Steps) (loss=1.48704):  83%|████████▎ | 20/24 [00:19<00:03,  1.05it/s]/u/08/hakkini2/unix/.local/lib/python3.10/site-packages/torch/utils/checkpoint.py:31: UserWarning: None of the inputs have requires_grad=True. Gradients will be None\n",
      "  warnings.warn(\"None of the inputs have requires_grad=True. Gradients will be None\")\n",
      "Validate (480 / 10 Steps): 100%|██████████| 6/6 [00:36<00:00,  6.10s/it]\n",
      "Training (500 / 30000 Steps) (loss=1.48704):  88%|████████▊ | 21/24 [00:56<00:35, 12.00s/it]"
     ]
    },
    {
     "name": "stdout",
     "output_type": "stream",
     "text": [
      "\n",
      " validation done! \n",
      "\n",
      "Model Was Saved ! Current Best Avg. Dice: 0.12538284063339233 Current Avg. Dice: 0.12538284063339233\n"
     ]
    },
    {
     "name": "stderr",
     "output_type": "stream",
     "text": [
      "Training (503 / 30000 Steps) (loss=1.38127): 100%|██████████| 24/24 [00:59<00:00,  2.49s/it]\n",
      "Training (527 / 30000 Steps) (loss=1.64247): 100%|██████████| 24/24 [00:22<00:00,  1.05it/s]\n",
      "Training (551 / 30000 Steps) (loss=1.35076): 100%|██████████| 24/24 [00:22<00:00,  1.06it/s]\n",
      "Training (575 / 30000 Steps) (loss=1.32840): 100%|██████████| 24/24 [00:22<00:00,  1.05it/s]\n",
      "Training (599 / 30000 Steps) (loss=1.45657): 100%|██████████| 24/24 [00:22<00:00,  1.06it/s]\n",
      "Training (623 / 30000 Steps) (loss=1.48313): 100%|██████████| 24/24 [00:22<00:00,  1.06it/s]\n",
      "Training (647 / 30000 Steps) (loss=1.47733): 100%|██████████| 24/24 [00:22<00:00,  1.06it/s]\n",
      "Training (671 / 30000 Steps) (loss=1.56904): 100%|██████████| 24/24 [00:22<00:00,  1.05it/s]\n",
      "Training (695 / 30000 Steps) (loss=1.21747): 100%|██████████| 24/24 [00:22<00:00,  1.05it/s]\n",
      "Training (719 / 30000 Steps) (loss=1.25459): 100%|██████████| 24/24 [00:22<00:00,  1.06it/s]\n",
      "Training (743 / 30000 Steps) (loss=1.39417): 100%|██████████| 24/24 [00:22<00:00,  1.06it/s]\n",
      "Training (767 / 30000 Steps) (loss=1.59819): 100%|██████████| 24/24 [00:22<00:00,  1.05it/s]\n",
      "Training (791 / 30000 Steps) (loss=1.20948): 100%|██████████| 24/24 [00:22<00:00,  1.05it/s]\n",
      "Training (815 / 30000 Steps) (loss=1.18996): 100%|██████████| 24/24 [00:22<00:00,  1.06it/s]\n",
      "Training (839 / 30000 Steps) (loss=1.22580): 100%|██████████| 24/24 [00:22<00:00,  1.06it/s]\n",
      "Training (863 / 30000 Steps) (loss=1.48946): 100%|██████████| 24/24 [00:22<00:00,  1.05it/s]\n",
      "Training (887 / 30000 Steps) (loss=1.14864): 100%|██████████| 24/24 [00:22<00:00,  1.05it/s]\n",
      "Training (911 / 30000 Steps) (loss=1.82967): 100%|██████████| 24/24 [00:22<00:00,  1.05it/s]\n",
      "Training (935 / 30000 Steps) (loss=1.19632): 100%|██████████| 24/24 [00:22<00:00,  1.05it/s]\n",
      "Training (959 / 30000 Steps) (loss=1.33268): 100%|██████████| 24/24 [00:22<00:00,  1.06it/s]\n",
      "Training (983 / 30000 Steps) (loss=1.26374): 100%|██████████| 24/24 [00:22<00:00,  1.05it/s]\n",
      "Validate (984 / 10 Steps): 100%|██████████| 6/6 [00:36<00:00,  6.11s/it]:16<00:07,  1.06it/s]\n"
     ]
    },
    {
     "name": "stdout",
     "output_type": "stream",
     "text": [
      "\n",
      " validation done! \n",
      "\n"
     ]
    },
    {
     "name": "stderr",
     "output_type": "stream",
     "text": [
      "Training (1000 / 30000 Steps) (loss=1.20235):  71%|███████   | 17/24 [00:53<01:24, 12.03s/it]"
     ]
    },
    {
     "name": "stdout",
     "output_type": "stream",
     "text": [
      "Model Was Saved ! Current Best Avg. Dice: 0.1966463178396225 Current Avg. Dice: 0.1966463178396225\n"
     ]
    },
    {
     "name": "stderr",
     "output_type": "stream",
     "text": [
      "Training (1007 / 30000 Steps) (loss=1.32236): 100%|██████████| 24/24 [00:59<00:00,  2.49s/it]\n",
      "Training (1031 / 30000 Steps) (loss=1.29776): 100%|██████████| 24/24 [00:22<00:00,  1.05it/s]\n",
      "Training (1055 / 30000 Steps) (loss=1.34116): 100%|██████████| 24/24 [00:22<00:00,  1.05it/s]\n",
      "Training (1079 / 30000 Steps) (loss=1.62587): 100%|██████████| 24/24 [00:22<00:00,  1.06it/s]\n",
      "Training (1103 / 30000 Steps) (loss=1.04320): 100%|██████████| 24/24 [00:22<00:00,  1.05it/s]\n",
      "Training (1127 / 30000 Steps) (loss=1.40307): 100%|██████████| 24/24 [00:22<00:00,  1.05it/s]\n",
      "Training (1151 / 30000 Steps) (loss=1.11324): 100%|██████████| 24/24 [00:22<00:00,  1.06it/s]\n",
      "Training (1175 / 30000 Steps) (loss=1.29296): 100%|██████████| 24/24 [00:22<00:00,  1.06it/s]\n",
      "Training (1199 / 30000 Steps) (loss=1.07977): 100%|██████████| 24/24 [00:22<00:00,  1.05it/s]\n",
      "Training (1223 / 30000 Steps) (loss=1.06000): 100%|██████████| 24/24 [00:22<00:00,  1.06it/s]\n",
      "Training (1247 / 30000 Steps) (loss=1.16768): 100%|██████████| 24/24 [00:22<00:00,  1.05it/s]\n",
      "Training (1271 / 30000 Steps) (loss=1.18613): 100%|██████████| 24/24 [00:22<00:00,  1.05it/s]\n",
      "Training (1295 / 30000 Steps) (loss=1.14088): 100%|██████████| 24/24 [00:22<00:00,  1.05it/s]\n",
      "Training (1319 / 30000 Steps) (loss=1.31241): 100%|██████████| 24/24 [00:22<00:00,  1.05it/s]\n",
      "Training (1343 / 30000 Steps) (loss=1.22744): 100%|██████████| 24/24 [00:22<00:00,  1.05it/s]\n",
      "Training (1367 / 30000 Steps) (loss=1.12468): 100%|██████████| 24/24 [00:22<00:00,  1.06it/s]\n",
      "Training (1391 / 30000 Steps) (loss=1.15289): 100%|██████████| 24/24 [00:22<00:00,  1.06it/s]\n",
      "Training (1415 / 30000 Steps) (loss=1.29773): 100%|██████████| 24/24 [00:22<00:00,  1.06it/s]\n",
      "Training (1439 / 30000 Steps) (loss=1.05638): 100%|██████████| 24/24 [00:22<00:00,  1.05it/s]\n",
      "Training (1463 / 30000 Steps) (loss=1.03167): 100%|██████████| 24/24 [00:22<00:00,  1.05it/s]\n",
      "Training (1487 / 30000 Steps) (loss=1.65727): 100%|██████████| 24/24 [00:22<00:00,  1.06it/s]\n",
      "Validate (1488 / 10 Steps): 100%|██████████| 6/6 [00:36<00:00,  6.02s/it]12<00:11,  1.05it/s]\n"
     ]
    },
    {
     "name": "stdout",
     "output_type": "stream",
     "text": [
      "\n",
      " validation done! \n",
      "\n"
     ]
    },
    {
     "name": "stderr",
     "output_type": "stream",
     "text": [
      "Training (1500 / 30000 Steps) (loss=1.08767):  54%|█████▍    | 13/24 [00:48<02:11, 11.97s/it]"
     ]
    },
    {
     "name": "stdout",
     "output_type": "stream",
     "text": [
      "Model Was Saved ! Current Best Avg. Dice: 0.28352463245391846 Current Avg. Dice: 0.28352463245391846\n"
     ]
    },
    {
     "name": "stderr",
     "output_type": "stream",
     "text": [
      "Training (1511 / 30000 Steps) (loss=1.45060): 100%|██████████| 24/24 [00:59<00:00,  2.47s/it]\n",
      "Training (1535 / 30000 Steps) (loss=1.21937): 100%|██████████| 24/24 [00:22<00:00,  1.05it/s]\n",
      "Training (1559 / 30000 Steps) (loss=1.20342): 100%|██████████| 24/24 [00:22<00:00,  1.05it/s]\n",
      "Training (1583 / 30000 Steps) (loss=1.10915): 100%|██████████| 24/24 [00:22<00:00,  1.05it/s]\n",
      "Training (1607 / 30000 Steps) (loss=1.19512): 100%|██████████| 24/24 [00:23<00:00,  1.04it/s]\n",
      "Training (1631 / 30000 Steps) (loss=1.01659): 100%|██████████| 24/24 [00:23<00:00,  1.04it/s]\n",
      "Training (1655 / 30000 Steps) (loss=1.02351): 100%|██████████| 24/24 [00:22<00:00,  1.04it/s]\n",
      "Training (1679 / 30000 Steps) (loss=1.80234): 100%|██████████| 24/24 [00:22<00:00,  1.04it/s]\n",
      "Training (1703 / 30000 Steps) (loss=1.28810): 100%|██████████| 24/24 [00:22<00:00,  1.04it/s]\n",
      "Training (1727 / 30000 Steps) (loss=1.02665): 100%|██████████| 24/24 [00:22<00:00,  1.04it/s]\n",
      "Training (1751 / 30000 Steps) (loss=0.97085): 100%|██████████| 24/24 [00:22<00:00,  1.05it/s]\n",
      "Training (1775 / 30000 Steps) (loss=1.03436): 100%|██████████| 24/24 [00:22<00:00,  1.04it/s]\n",
      "Training (1799 / 30000 Steps) (loss=1.02658): 100%|██████████| 24/24 [00:23<00:00,  1.04it/s]\n",
      "Training (1823 / 30000 Steps) (loss=1.00729): 100%|██████████| 24/24 [00:22<00:00,  1.04it/s]\n",
      "Training (1847 / 30000 Steps) (loss=1.13680): 100%|██████████| 24/24 [00:22<00:00,  1.05it/s]\n",
      "Training (1871 / 30000 Steps) (loss=0.96569): 100%|██████████| 24/24 [00:22<00:00,  1.04it/s]\n",
      "Training (1895 / 30000 Steps) (loss=0.99315): 100%|██████████| 24/24 [00:22<00:00,  1.04it/s]\n",
      "Training (1919 / 30000 Steps) (loss=0.95156): 100%|██████████| 24/24 [00:22<00:00,  1.05it/s]\n",
      "Training (1943 / 30000 Steps) (loss=0.98697): 100%|██████████| 24/24 [00:22<00:00,  1.05it/s]\n",
      "Training (1967 / 30000 Steps) (loss=1.36163): 100%|██████████| 24/24 [00:22<00:00,  1.05it/s]\n",
      "Training (1991 / 30000 Steps) (loss=1.13304): 100%|██████████| 24/24 [00:22<00:00,  1.05it/s]\n",
      "Validate (1992 / 10 Steps): 100%|██████████| 6/6 [00:37<00:00,  6.24s/it]8<00:15,  1.05it/s]\n"
     ]
    },
    {
     "name": "stdout",
     "output_type": "stream",
     "text": [
      "\n",
      " validation done! \n",
      "\n"
     ]
    },
    {
     "name": "stderr",
     "output_type": "stream",
     "text": [
      "Training (2000 / 30000 Steps) (loss=0.99761):  38%|███▊      | 9/24 [00:46<03:11, 12.73s/it]"
     ]
    },
    {
     "name": "stdout",
     "output_type": "stream",
     "text": [
      "Model Was Saved ! Current Best Avg. Dice: 0.38243070244789124 Current Avg. Dice: 0.38243070244789124\n"
     ]
    },
    {
     "name": "stderr",
     "output_type": "stream",
     "text": [
      "Training (2015 / 30000 Steps) (loss=1.05721): 100%|██████████| 24/24 [01:00<00:00,  2.52s/it]\n",
      "Training (2039 / 30000 Steps) (loss=1.01297): 100%|██████████| 24/24 [00:22<00:00,  1.06it/s]\n",
      "Training (2063 / 30000 Steps) (loss=0.94637): 100%|██████████| 24/24 [00:22<00:00,  1.06it/s]\n",
      "Training (2087 / 30000 Steps) (loss=0.93516): 100%|██████████| 24/24 [00:22<00:00,  1.06it/s]\n",
      "Training (2111 / 30000 Steps) (loss=1.04787): 100%|██████████| 24/24 [00:22<00:00,  1.06it/s]\n",
      "Training (2135 / 30000 Steps) (loss=0.94595): 100%|██████████| 24/24 [00:22<00:00,  1.06it/s]\n",
      "Training (2159 / 30000 Steps) (loss=0.92357): 100%|██████████| 24/24 [00:22<00:00,  1.06it/s]\n",
      "Training (2183 / 30000 Steps) (loss=1.10207): 100%|██████████| 24/24 [00:22<00:00,  1.06it/s]\n",
      "Training (2207 / 30000 Steps) (loss=1.03657): 100%|██████████| 24/24 [00:22<00:00,  1.06it/s]\n",
      "Training (2231 / 30000 Steps) (loss=0.93614): 100%|██████████| 24/24 [00:22<00:00,  1.06it/s]\n",
      "Training (2255 / 30000 Steps) (loss=0.96440): 100%|██████████| 24/24 [00:22<00:00,  1.06it/s]\n",
      "Training (2279 / 30000 Steps) (loss=1.15032): 100%|██████████| 24/24 [00:22<00:00,  1.06it/s]\n",
      "Training (2303 / 30000 Steps) (loss=0.99474): 100%|██████████| 24/24 [00:22<00:00,  1.05it/s]\n",
      "Training (2327 / 30000 Steps) (loss=0.97655): 100%|██████████| 24/24 [00:22<00:00,  1.06it/s]\n",
      "Training (2351 / 30000 Steps) (loss=1.09432): 100%|██████████| 24/24 [00:22<00:00,  1.06it/s]\n",
      "Training (2375 / 30000 Steps) (loss=1.03524): 100%|██████████| 24/24 [00:22<00:00,  1.06it/s]\n",
      "Training (2399 / 30000 Steps) (loss=0.94035): 100%|██████████| 24/24 [00:22<00:00,  1.06it/s]\n",
      "Training (2423 / 30000 Steps) (loss=0.99970): 100%|██████████| 24/24 [00:22<00:00,  1.06it/s]\n",
      "Training (2447 / 30000 Steps) (loss=0.97485): 100%|██████████| 24/24 [00:22<00:00,  1.06it/s]\n",
      "Training (2471 / 30000 Steps) (loss=1.07346): 100%|██████████| 24/24 [00:22<00:00,  1.06it/s]\n",
      "Training (2495 / 30000 Steps) (loss=0.88642): 100%|██████████| 24/24 [00:22<00:00,  1.06it/s]\n",
      "Validate (2496 / 10 Steps): 100%|██████████| 6/6 [00:38<00:00,  6.34s/it]4<00:18,  1.06it/s]\n"
     ]
    },
    {
     "name": "stdout",
     "output_type": "stream",
     "text": [
      "\n",
      " validation done! \n",
      "\n"
     ]
    },
    {
     "name": "stderr",
     "output_type": "stream",
     "text": [
      "Training (2500 / 30000 Steps) (loss=0.93282):  21%|██        | 5/24 [00:43<04:40, 14.76s/it]"
     ]
    },
    {
     "name": "stdout",
     "output_type": "stream",
     "text": [
      "Model Was Saved ! Current Best Avg. Dice: 0.48770764470100403 Current Avg. Dice: 0.48770764470100403\n"
     ]
    },
    {
     "name": "stderr",
     "output_type": "stream",
     "text": [
      "Training (2519 / 30000 Steps) (loss=1.12845): 100%|██████████| 24/24 [01:01<00:00,  2.55s/it]\n",
      "Training (2543 / 30000 Steps) (loss=1.02251): 100%|██████████| 24/24 [00:22<00:00,  1.06it/s]\n",
      "Training (2567 / 30000 Steps) (loss=0.99188): 100%|██████████| 24/24 [00:22<00:00,  1.06it/s]\n",
      "Training (2591 / 30000 Steps) (loss=0.90120): 100%|██████████| 24/24 [00:22<00:00,  1.06it/s]\n",
      "Training (2615 / 30000 Steps) (loss=0.92955): 100%|██████████| 24/24 [00:22<00:00,  1.06it/s]\n",
      "Training (2639 / 30000 Steps) (loss=0.86072): 100%|██████████| 24/24 [00:22<00:00,  1.06it/s]\n",
      "Training (2663 / 30000 Steps) (loss=0.82525): 100%|██████████| 24/24 [00:22<00:00,  1.06it/s]\n",
      "Training (2687 / 30000 Steps) (loss=0.88364): 100%|██████████| 24/24 [00:22<00:00,  1.06it/s]\n",
      "Training (2711 / 30000 Steps) (loss=0.94630): 100%|██████████| 24/24 [00:22<00:00,  1.06it/s]\n",
      "Training (2735 / 30000 Steps) (loss=0.97126): 100%|██████████| 24/24 [00:22<00:00,  1.06it/s]\n",
      "Training (2754 / 30000 Steps) (loss=0.91774):  79%|███████▉  | 19/24 [00:18<00:04,  1.01it/s]\n"
     ]
    },
    {
     "ename": "KeyboardInterrupt",
     "evalue": "",
     "output_type": "error",
     "traceback": [
      "\u001b[0;31m---------------------------------------------------------------------------\u001b[0m",
      "\u001b[0;31mKeyboardInterrupt\u001b[0m                         Traceback (most recent call last)",
      "\u001b[0;32m/tmp/ipykernel_289162/243657769.py\u001b[0m in \u001b[0;36m<module>\u001b[0;34m\u001b[0m\n\u001b[1;32m     10\u001b[0m \u001b[0mmetric_values\u001b[0m \u001b[0;34m=\u001b[0m \u001b[0;34m[\u001b[0m\u001b[0;34m]\u001b[0m\u001b[0;34m\u001b[0m\u001b[0;34m\u001b[0m\u001b[0m\n\u001b[1;32m     11\u001b[0m \u001b[0;32mwhile\u001b[0m \u001b[0mglobal_step\u001b[0m \u001b[0;34m<\u001b[0m \u001b[0mmax_iterations\u001b[0m\u001b[0;34m:\u001b[0m\u001b[0;34m\u001b[0m\u001b[0;34m\u001b[0m\u001b[0m\n\u001b[0;32m---> 12\u001b[0;31m     \u001b[0mglobal_step\u001b[0m\u001b[0;34m,\u001b[0m \u001b[0mdice_val_best\u001b[0m\u001b[0;34m,\u001b[0m \u001b[0mglobal_step_best\u001b[0m \u001b[0;34m=\u001b[0m \u001b[0mtrain\u001b[0m\u001b[0;34m(\u001b[0m\u001b[0mglobal_step\u001b[0m\u001b[0;34m,\u001b[0m \u001b[0mtrain_loader\u001b[0m\u001b[0;34m,\u001b[0m \u001b[0mdice_val_best\u001b[0m\u001b[0;34m,\u001b[0m \u001b[0mglobal_step_best\u001b[0m\u001b[0;34m)\u001b[0m\u001b[0;34m\u001b[0m\u001b[0;34m\u001b[0m\u001b[0m\n\u001b[0m\u001b[1;32m     13\u001b[0m \u001b[0mmodel\u001b[0m\u001b[0;34m.\u001b[0m\u001b[0mload_state_dict\u001b[0m\u001b[0;34m(\u001b[0m\u001b[0mtorch\u001b[0m\u001b[0;34m.\u001b[0m\u001b[0mload\u001b[0m\u001b[0;34m(\u001b[0m\u001b[0mos\u001b[0m\u001b[0;34m.\u001b[0m\u001b[0mpath\u001b[0m\u001b[0;34m.\u001b[0m\u001b[0mjoin\u001b[0m\u001b[0;34m(\u001b[0m\u001b[0mroot_dir\u001b[0m\u001b[0;34m,\u001b[0m \u001b[0;34m\"best_metric_model.pth\"\u001b[0m\u001b[0;34m)\u001b[0m\u001b[0;34m)\u001b[0m\u001b[0;34m)\u001b[0m\u001b[0;34m\u001b[0m\u001b[0;34m\u001b[0m\u001b[0m\n\u001b[1;32m     14\u001b[0m \u001b[0;34m\u001b[0m\u001b[0m\n",
      "\u001b[0;32m/tmp/ipykernel_289162/1452074390.py\u001b[0m in \u001b[0;36mtrain\u001b[0;34m(global_step, train_loader, dice_val_best, global_step_best)\u001b[0m\n\u001b[1;32m     29\u001b[0m             \u001b[0mlogit_map\u001b[0m \u001b[0;34m=\u001b[0m \u001b[0mmodel\u001b[0m\u001b[0;34m(\u001b[0m\u001b[0mx\u001b[0m\u001b[0;34m)\u001b[0m\u001b[0;34m\u001b[0m\u001b[0;34m\u001b[0m\u001b[0m\n\u001b[1;32m     30\u001b[0m             \u001b[0mloss\u001b[0m \u001b[0;34m=\u001b[0m \u001b[0mloss_function\u001b[0m\u001b[0;34m(\u001b[0m\u001b[0mlogit_map\u001b[0m\u001b[0;34m,\u001b[0m \u001b[0my\u001b[0m\u001b[0;34m)\u001b[0m\u001b[0;34m\u001b[0m\u001b[0;34m\u001b[0m\u001b[0m\n\u001b[0;32m---> 31\u001b[0;31m         \u001b[0mscaler\u001b[0m\u001b[0;34m.\u001b[0m\u001b[0mscale\u001b[0m\u001b[0;34m(\u001b[0m\u001b[0mloss\u001b[0m\u001b[0;34m)\u001b[0m\u001b[0;34m.\u001b[0m\u001b[0mbackward\u001b[0m\u001b[0;34m(\u001b[0m\u001b[0;34m)\u001b[0m\u001b[0;34m\u001b[0m\u001b[0;34m\u001b[0m\u001b[0m\n\u001b[0m\u001b[1;32m     32\u001b[0m         \u001b[0mepoch_loss\u001b[0m \u001b[0;34m+=\u001b[0m \u001b[0mloss\u001b[0m\u001b[0;34m.\u001b[0m\u001b[0mitem\u001b[0m\u001b[0;34m(\u001b[0m\u001b[0;34m)\u001b[0m\u001b[0;34m\u001b[0m\u001b[0;34m\u001b[0m\u001b[0m\n\u001b[1;32m     33\u001b[0m         \u001b[0mscaler\u001b[0m\u001b[0;34m.\u001b[0m\u001b[0munscale_\u001b[0m\u001b[0;34m(\u001b[0m\u001b[0moptimizer\u001b[0m\u001b[0;34m)\u001b[0m\u001b[0;34m\u001b[0m\u001b[0;34m\u001b[0m\u001b[0m\n",
      "\u001b[0;32m~/.local/lib/python3.10/site-packages/torch/_tensor.py\u001b[0m in \u001b[0;36mbackward\u001b[0;34m(self, gradient, retain_graph, create_graph, inputs)\u001b[0m\n\u001b[1;32m    485\u001b[0m                 \u001b[0minputs\u001b[0m\u001b[0;34m=\u001b[0m\u001b[0minputs\u001b[0m\u001b[0;34m,\u001b[0m\u001b[0;34m\u001b[0m\u001b[0;34m\u001b[0m\u001b[0m\n\u001b[1;32m    486\u001b[0m             )\n\u001b[0;32m--> 487\u001b[0;31m         torch.autograd.backward(\n\u001b[0m\u001b[1;32m    488\u001b[0m             \u001b[0mself\u001b[0m\u001b[0;34m,\u001b[0m \u001b[0mgradient\u001b[0m\u001b[0;34m,\u001b[0m \u001b[0mretain_graph\u001b[0m\u001b[0;34m,\u001b[0m \u001b[0mcreate_graph\u001b[0m\u001b[0;34m,\u001b[0m \u001b[0minputs\u001b[0m\u001b[0;34m=\u001b[0m\u001b[0minputs\u001b[0m\u001b[0;34m\u001b[0m\u001b[0;34m\u001b[0m\u001b[0m\n\u001b[1;32m    489\u001b[0m         )\n",
      "\u001b[0;32m~/.local/lib/python3.10/site-packages/torch/autograd/__init__.py\u001b[0m in \u001b[0;36mbackward\u001b[0;34m(tensors, grad_tensors, retain_graph, create_graph, grad_variables, inputs)\u001b[0m\n\u001b[1;32m    198\u001b[0m     \u001b[0;31m# some Python versions print out the first line of a multi-line function\u001b[0m\u001b[0;34m\u001b[0m\u001b[0;34m\u001b[0m\u001b[0m\n\u001b[1;32m    199\u001b[0m     \u001b[0;31m# calls in the traceback and some print out the last line\u001b[0m\u001b[0;34m\u001b[0m\u001b[0;34m\u001b[0m\u001b[0m\n\u001b[0;32m--> 200\u001b[0;31m     Variable._execution_engine.run_backward(  # Calls into the C++ engine to run the backward pass\n\u001b[0m\u001b[1;32m    201\u001b[0m         \u001b[0mtensors\u001b[0m\u001b[0;34m,\u001b[0m \u001b[0mgrad_tensors_\u001b[0m\u001b[0;34m,\u001b[0m \u001b[0mretain_graph\u001b[0m\u001b[0;34m,\u001b[0m \u001b[0mcreate_graph\u001b[0m\u001b[0;34m,\u001b[0m \u001b[0minputs\u001b[0m\u001b[0;34m,\u001b[0m\u001b[0;34m\u001b[0m\u001b[0;34m\u001b[0m\u001b[0m\n\u001b[1;32m    202\u001b[0m         allow_unreachable=True, accumulate_grad=True)  # Calls into the C++ engine to run the backward pass\n",
      "\u001b[0;31mKeyboardInterrupt\u001b[0m: "
     ]
    }
   ],
   "source": [
    "max_iterations = 30000\n",
    "eval_num = 500\n",
    "post_label = AsDiscrete(to_onehot=14)\n",
    "post_pred = AsDiscrete(argmax=True, to_onehot=14)\n",
    "dice_metric = DiceMetric(include_background=True, reduction=\"mean\", get_not_nans=False)\n",
    "global_step = 0\n",
    "dice_val_best = 0.0\n",
    "global_step_best = 0\n",
    "epoch_loss_values = []\n",
    "metric_values = []\n",
    "while global_step < max_iterations:\n",
    "    global_step, dice_val_best, global_step_best = train(global_step, train_loader, dice_val_best, global_step_best)\n",
    "model.load_state_dict(torch.load(os.path.join(root_dir, \"best_metric_model.pth\")))\n",
    "\n",
    "print(f\"train completed, best_metric: {dice_val_best:.4f} \" f\"at iteration: {global_step_best}\")"
   ]
  }
 ],
 "metadata": {
  "kernelspec": {
   "display_name": "Python 3",
   "language": "python",
   "name": "python3"
  },
  "language_info": {
   "codemirror_mode": {
    "name": "ipython",
    "version": 3
   },
   "file_extension": ".py",
   "mimetype": "text/x-python",
   "name": "python",
   "nbconvert_exporter": "python",
   "pygments_lexer": "ipython3",
   "version": "3.10.6"
  },
  "orig_nbformat": 4
 },
 "nbformat": 4,
 "nbformat_minor": 2
}
